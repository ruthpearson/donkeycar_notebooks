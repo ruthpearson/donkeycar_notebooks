{
 "cells": [
  {
   "cell_type": "code",
   "execution_count": null,
   "metadata": {},
   "outputs": [],
   "source": [
    "# this notebook was created from: https://wroscoe.github.io/keras-lane-following-autopilot.html"
   ]
  },
  {
   "cell_type": "code",
   "execution_count": null,
   "metadata": {},
   "outputs": [],
   "source": [
    "import os\n",
    "import urllib.request\n",
    "import pickle\n",
    "import numpy as np\n",
    "\n",
    "%matplotlib inline\n",
    "import matplotlib\n",
    "from matplotlib.pyplot import imshow"
   ]
  },
  {
   "cell_type": "markdown",
   "metadata": {},
   "source": [
    "# Get the data"
   ]
  },
  {
   "cell_type": "code",
   "execution_count": null,
   "metadata": {},
   "outputs": [],
   "source": [
    "#downlaod driving data (450Mb) \n",
    "data_url = 'https://s3.amazonaws.com/donkey_resources/indoor_lanes.pkl'\n",
    "file_path, headers = urllib.request.urlretrieve(data_url)\n",
    "print(file_path)"
   ]
  },
  {
   "cell_type": "code",
   "execution_count": null,
   "metadata": {},
   "outputs": [],
   "source": [
    "#extract data\n",
    "with open(file_path, 'rb') as f:\n",
    "    X, Y = pickle.load(f)\n",
    "    \n",
    "print('X.shape: ', X.shape)\n",
    "print('Y.shape: ', Y.shape)\n",
    "imshow(X[0])"
   ]
  },
  {
   "cell_type": "markdown",
   "metadata": {},
   "source": [
    "# Prepare data"
   ]
  },
  {
   "cell_type": "code",
   "execution_count": null,
   "metadata": {},
   "outputs": [],
   "source": [
    "#shuffle  both X and Y the same way\n",
    "def unison_shuffled_copies(X, Y):\n",
    "    assert len(X) == len(Y)\n",
    "    p = np.random.permutation(len(X))\n",
    "    return X[p], Y[p]\n",
    "\n",
    "shuffled_X, shuffled_Y = unison_shuffled_copies(X,Y)\n",
    "\n",
    "len(shuffled_X)"
   ]
  },
  {
   "cell_type": "code",
   "execution_count": null,
   "metadata": {},
   "outputs": [],
   "source": [
    "test_cutoff = int(len(X) * .8) # 80% of data used for training\n",
    "val_cutoff = test_cutoff + int(len(X) * .1) # 10% of data used for validation and test data \n",
    "\n",
    "train_X, train_Y = shuffled_X[:test_cutoff], shuffled_Y[:test_cutoff]\n",
    "val_X, val_Y = shuffled_X[test_cutoff:val_cutoff], shuffled_Y[test_cutoff:val_cutoff]\n",
    "test_X, test_Y = shuffled_X[val_cutoff:], shuffled_Y[val_cutoff:]\n",
    "\n",
    "len(train_X) + len(val_X) + len(test_X)"
   ]
  },
  {
   "cell_type": "markdown",
   "metadata": {},
   "source": [
    "## Augment data"
   ]
  },
  {
   "cell_type": "code",
   "execution_count": null,
   "metadata": {},
   "outputs": [],
   "source": [
    "X_flipped = np.array([np.fliplr(i) for i in train_X])\n",
    "Y_flipped = np.array([-i for i in train_Y])\n",
    "train_X = np.concatenate([train_X, X_flipped])\n",
    "train_Y = np.concatenate([train_Y, Y_flipped])\n",
    "len(train_X)"
   ]
  },
  {
   "cell_type": "markdown",
   "metadata": {},
   "source": [
    "# Build a driving model"
   ]
  },
  {
   "cell_type": "code",
   "execution_count": null,
   "metadata": {},
   "outputs": [],
   "source": [
    "from keras.models import Model, load_model\n",
    "from keras.layers import Input, Convolution2D, MaxPooling2D, Activation, Dropout, Flatten, Dense"
   ]
  },
  {
   "cell_type": "code",
   "execution_count": null,
   "metadata": {},
   "outputs": [],
   "source": [
    "img_in = Input(shape=(120, 160, 3), name='img_in')\n",
    "angle_in = Input(shape=(1,), name='angle_in')\n",
    "\n",
    "x = Convolution2D(8, 3, 3)(img_in)\n",
    "x = Activation('relu')(x)\n",
    "x = MaxPooling2D(pool_size=(2, 2))(x)\n",
    "\n",
    "x = Convolution2D(16, 3, 3)(x)\n",
    "x = Activation('relu')(x)\n",
    "x = MaxPooling2D(pool_size=(2, 2))(x)\n",
    "\n",
    "x = Convolution2D(32, 3, 3)(x)\n",
    "x = Activation('relu')(x)\n",
    "x = MaxPooling2D(pool_size=(2, 2))(x)\n",
    "\n",
    "merged = Flatten()(x)\n",
    "\n",
    "x = Dense(256)(merged)\n",
    "x = Activation('linear')(x)\n",
    "x = Dropout(.2)(x)\n",
    "\n",
    "angle_out = Dense(1, name='angle_out')(x)\n",
    "\n",
    "model = Model(input=[img_in], output=[angle_out])\n",
    "model.compile(optimizer='adam', loss='mean_squared_error')\n",
    "model.summary()"
   ]
  },
  {
   "cell_type": "markdown",
   "metadata": {},
   "source": [
    "# Train the model"
   ]
  },
  {
   "cell_type": "code",
   "execution_count": null,
   "metadata": {},
   "outputs": [],
   "source": [
    "import os\n",
    "from keras import callbacks\n",
    "\n",
    "model_path = os.path.expanduser('~/best_autopilot.hdf5')\n",
    "\n",
    "#Save the model after each epoch if the validation loss improved.\n",
    "save_best = callbacks.ModelCheckpoint(model_path, monitor='val_loss', verbose=1, \n",
    "                                     save_best_only=True, mode='min')\n",
    "\n",
    "#stop training if the validation loss doesn't improve for 5 consecutive epochs.\n",
    "early_stop = callbacks.EarlyStopping(monitor='val_loss', min_delta=0, patience=5, \n",
    "                                     verbose=0, mode='auto')\n",
    "\n",
    "callbacks_list = [save_best, early_stop]"
   ]
  },
  {
   "cell_type": "code",
   "execution_count": null,
   "metadata": {},
   "outputs": [],
   "source": [
    "model.fit(train_X, train_Y, batch_size=64, nb_epoch=4, validation_data=(val_X, val_Y), callbacks=callbacks_list)"
   ]
  },
  {
   "cell_type": "markdown",
   "metadata": {},
   "source": [
    "# Evaluate Performance"
   ]
  },
  {
   "cell_type": "code",
   "execution_count": null,
   "metadata": {},
   "outputs": [],
   "source": [
    "import pandas as pd\n",
    "\n",
    "model = load_model(model_path)\n",
    "test_P = model.predict(test_X)\n",
    "test_P = test_P.reshape((test_P.shape[0],)"
   ]
  },
  {
   "cell_type": "code",
   "execution_count": null,
   "metadata": {},
   "outputs": [],
   "source": [
    "df = pd.DataFrame({'predicted':test_P, 'actual':test_Y})\n",
    "ax = df.plot.scatter('predicted', 'actual')\n",
    "#ax.set_ylabel(\"steering angle\")"
   ]
  },
  {
   "cell_type": "code",
   "execution_count": null,
   "metadata": {},
   "outputs": [],
   "source": [
    "P = model.predict(X[:700])\n",
    "#predict outputs nested arrays so we need to reshape to plot.\n",
    "P = P.reshape((P.shape[0],)) \n",
    "\n",
    "ax = pd.DataFrame({'predicted':P, 'actual':Y[:700]}).plot()\n",
    "ax.set_ylabel(\"steering angle\")"
   ]
  }
 ],
 "metadata": {
  "kernelspec": {
   "display_name": "Python 2",
   "language": "python",
   "name": "python2"
  },
  "language_info": {
   "codemirror_mode": {
    "name": "ipython",
    "version": 2
   },
   "file_extension": ".py",
   "mimetype": "text/x-python",
   "name": "python",
   "nbconvert_exporter": "python",
   "pygments_lexer": "ipython2",
   "version": "2.7.15"
  }
 },
 "nbformat": 4,
 "nbformat_minor": 2
}
